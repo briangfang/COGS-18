{
 "cells": [
  {
   "cell_type": "markdown",
   "id": "working-journalism",
   "metadata": {},
   "source": [
    "# Project Description"
   ]
  },
  {
   "cell_type": "markdown",
   "id": "white-mining",
   "metadata": {},
   "source": [
    "This project named Foodstore allows the user to add their food items with attributes (i.e. food quantity, expiration date, and category) to a dataframe. Once foods are entered into a dataframe, users can remove foods, edit food quantity, and check if a food is expired. Of course, all the dataframe methods can be used to further manipulate the food inventory data for experienced users. In the code comments, the dataframe in which food information is stored will be synonymous with the term inventory.\n",
    "\n",
    "Note: I have tried to delete the my_module directory but Datahub will not let me."
   ]
  },
  {
   "cell_type": "markdown",
   "id": "educational-ceremony",
   "metadata": {},
   "source": [
    "## Project Code\n",
    "\n",
    "If it makes sense for your project, you can have code and outputs here in the notebook as well."
   ]
  },
  {
   "cell_type": "code",
   "execution_count": 1,
   "id": "selective-incentive",
   "metadata": {},
   "outputs": [],
   "source": [
    "from datetime import date\n",
    "import pandas as pd\n",
    "from functions import (create_food, \n",
    "                       init_df, \n",
    "                       add_food, \n",
    "                       in_inventory, \n",
    "                       remove_food, \n",
    "                       edit_quant, \n",
    "                       is_expired)\n",
    "\n",
    "from test_functions import (test_remove_food, \n",
    "                            test_edit_quant, \n",
    "                            test_is_expired, \n",
    "                            test_tests)"
   ]
  },
  {
   "cell_type": "code",
   "execution_count": 2,
   "id": "blocked-nevada",
   "metadata": {},
   "outputs": [
    {
     "name": "stdout",
     "output_type": "stream",
     "text": [
      "Food not found. Inventory unchanged.\n",
      "Food not found. Inventory unchanged.\n",
      "The new banana quantity is the same as the old one. Inventory unchanged.\n",
      "banana quantity changed from 2 to 7.\n",
      "This food has not yet expired. It will expire in 2914195 days.\n",
      "This food expires today!\n",
      "This food has expired. It expired 5 days ago.\n",
      "Food not found. Inventory unchanged.\n"
     ]
    }
   ],
   "source": [
    "# run all test functions\n",
    "# ignore the printed output\n",
    "# if there are no assertion errors,\n",
    "# all test functions have passed\n",
    "test_tests()"
   ]
  },
  {
   "cell_type": "code",
   "execution_count": 3,
   "id": "eastern-duncan",
   "metadata": {},
   "outputs": [
    {
     "name": "stdout",
     "output_type": "stream",
     "text": [
      "Banana is in inventory: True\n",
      "\n",
      "\n",
      "    food  quant         exp   categ\n",
      "0  pasta      1  2021-03-15  grains\n",
      "1  mango      7  2021-08-23   fruit\n",
      "\n",
      "\n",
      "mango quantity changed from 7 to 4.\n",
      "\n",
      "\n",
      "    food  quant         exp   categ\n",
      "0  pasta      1  2021-03-15  grains\n",
      "1  mango      4  2021-08-23   fruit\n",
      "\n",
      "\n",
      "pasta:\n",
      "This food expires today!\n"
     ]
    },
    {
     "data": {
      "text/plain": [
       "False"
      ]
     },
     "execution_count": 3,
     "metadata": {},
     "output_type": "execute_result"
    }
   ],
   "source": [
    "# create a dataframe with the first food \n",
    "df = init_df('banana', 2, date(2021, 3, 10), 'fruit')\n",
    "\n",
    "# add more foods to inventory\n",
    "df = add_food(df, 'pasta', 1, date.today(), 'grains')\n",
    "df = add_food(df, 'mango', 7, date(2021, 8, 23), 'fruit')\n",
    "\n",
    "# check if banana is in inventory\n",
    "print('Banana is in inventory: ' + str(in_inventory(df, 'banana')))\n",
    "print('\\n')\n",
    "\n",
    "# remove banana from inventory\n",
    "df = remove_food(df, 'banana')\n",
    "print(df)\n",
    "print('\\n')\n",
    "\n",
    "# edit mango quantity\n",
    "edit_quant(df, 'mango', 4)\n",
    "print('\\n')\n",
    "print(df)\n",
    "print('\\n')\n",
    "\n",
    "# check if pasta is expired\n",
    "print('pasta:')\n",
    "is_expired(df, 'pasta')"
   ]
  },
  {
   "cell_type": "markdown",
   "id": "bacterial-fabric",
   "metadata": {},
   "source": [
    "I don't have any python background. I did take a few weeks of a C++ course in community college prior to transferrring to UCSD but dropped out because I could not understand at all what was being taught. Although we were taught an introduction on how to work with dataframes,\n",
    "the most difficult part for me was figuring out how to write code to loop through each category under a specific column and check if that category matched an input string. Then if it did, how to edit what was stored in the same row as the category. We did not learn how to do this in class and I used variations of this code I came up with for the last three functions of my project. I also used the datetime module and did some reading to understand the datetime objects. I did look into using input() and running a script so that the project would be more user-friendly. I also looked into having code to create a file storing the created dataframe inventory from the project on the local computer so that the user could close this project and open it again with their saved food inventory. Unfortunately, I did not implement either of these ideas due to time constraints. "
   ]
  }
 ],
 "metadata": {
  "kernelspec": {
   "display_name": "Python 3",
   "language": "python",
   "name": "python3"
  },
  "language_info": {
   "codemirror_mode": {
    "name": "ipython",
    "version": 3
   },
   "file_extension": ".py",
   "mimetype": "text/x-python",
   "name": "python",
   "nbconvert_exporter": "python",
   "pygments_lexer": "ipython3",
   "version": "3.7.9"
  }
 },
 "nbformat": 4,
 "nbformat_minor": 5
}
